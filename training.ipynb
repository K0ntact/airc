{
 "cells": [
  {
   "metadata": {},
   "cell_type": "code",
   "source": [
    "import numpy as np\n",
    "import torch\n",
    "from torch.utils.data import DataLoader, RandomSampler\n",
    "from torchinfo import summary\n",
    "from tqdm import tqdm\n",
    "from transformers.optimization import get_linear_schedule_with_warmup\n",
    "import wandb\n",
    "\n",
    "from dataset import ATMADataset\n",
    "from models.timesformer_gru import TimesformerGRU"
   ],
   "id": "ccd378940e702be0",
   "outputs": [],
   "execution_count": null
  },
  {
   "metadata": {},
   "cell_type": "code",
   "source": [
    "model = TimesformerGRU(pretrained_tsf=\"facebook/timesformer-base-finetuned-k400\",\n",
    "                       gru_hidden_size=128, gru_layers=2,\n",
    "                       num_classes=2)"
   ],
   "id": "21093e1a15ffb4c6",
   "outputs": [],
   "execution_count": null
  },
  {
   "metadata": {},
   "cell_type": "code",
   "source": [
    "dummy_input = list(np.random.rand(8 ,3, 224, 224))\n",
    "summary(model=model)"
   ],
   "id": "d8c79ece7fb5deee",
   "outputs": [],
   "execution_count": null
  },
  {
   "metadata": {},
   "cell_type": "code",
   "source": [
    "class TrainingLoop:\n",
    "    def __init__(self, model, dataloader, optimizer, scheduler, num_epochs, device):\n",
    "        self.model = model\n",
    "        self.train_dataloader = dataloader\n",
    "        self.optimizer = optimizer\n",
    "        self.scheduler = scheduler\n",
    "        self.num_epochs = num_epochs\n",
    "        self.device = device\n",
    "\n",
    "    def _grad_norm(self):\n",
    "        total_norm = 0\n",
    "        for p in self.model.parameters():\n",
    "            param_grad = p.grad\n",
    "            if param_grad is not None:\n",
    "                param_norm = param_grad.data.norm(2)\n",
    "                total_norm += param_norm.item() ** 2\n",
    "        total_norm = total_norm ** (1. / 2)\n",
    "        return total_norm\n",
    "\n",
    "    def train(self):\n",
    "        self.model.to(self.device)\n",
    "        self.model.train()\n",
    "        for epoch in range(self.num_epochs):\n",
    "            epoch_iterator = tqdm(self.train_dataloader, desc=f\"Epoch {epoch + 1}/{self.num_epochs}\")\n",
    "            for step, (inputs, labels) in enumerate(epoch_iterator):\n",
    "                inputs, labels = inputs.to(self.device), labels.to(self.device)\n",
    "                self.optimizer.zero_grad()\n",
    "                outputs = self.model(inputs)\n",
    "                # print(f\"Output shape: {outputs.shape}\")\n",
    "                # print(f\"Labels shape: {labels.shape}\")\n",
    "\n",
    "                # print(f\"Outputs: {outputs[0]}\")\n",
    "                # print(f\"Labels: {labels[0]}\")\n",
    "\n",
    "                loss = torch.nn.functional.cross_entropy(outputs, labels)\n",
    "\n",
    "                loss.backward()\n",
    "                self.optimizer.step()\n",
    "                self.scheduler.step()\n",
    "                grad_norm = self._grad_norm()\n",
    "                # wandb.log({\"batch_loss\": loss.item(), \"grad_norm\": grad_norm, \"epoch\": epoch})\n",
    "\n",
    "                epoch_iterator.set_postfix(loss=loss.item())"
   ],
   "id": "6debad09354c5b3d",
   "outputs": [],
   "execution_count": null
  },
  {
   "metadata": {},
   "cell_type": "code",
   "source": [
    "batch_size = 1\n",
    "lr = 1e-4\n",
    "warm_up_steps = 0\n",
    "num_epochs = 100"
   ],
   "id": "38a92ba860e5bfc1",
   "outputs": [],
   "execution_count": null
  },
  {
   "metadata": {},
   "cell_type": "code",
   "source": [
    "dataset = ATMADataset(vid_folder_path=\"./datasets/ATMA-V/videos/train/aug\",\n",
    "                    label_path=\"./datasets/ATMA-V/labels/labels.txt\")\n",
    "\n",
    "train_sampler = RandomSampler(dataset)\n",
    "train_dataloader = DataLoader(dataset, sampler=train_sampler, batch_size=batch_size)\n",
    "optimizer = torch.optim.Adam(model.parameters(), lr=lr)\n",
    "scheduler = get_linear_schedule_with_warmup(optimizer, num_warmup_steps=warm_up_steps, num_training_steps=len(train_dataloader))\n",
    "device = torch.device(\"cuda\" if torch.cuda.is_available() else \"cpu\")\n",
    "# device = \"cpu\"\n",
    "\n",
    "training_loop = TrainingLoop(model=model,\n",
    "                             dataloader=train_dataloader,\n",
    "                             optimizer=optimizer,\n",
    "                             scheduler=scheduler,\n",
    "                             num_epochs=num_epochs,\n",
    "                             device=device)"
   ],
   "id": "7db476d48378c2f8",
   "outputs": [],
   "execution_count": null
  },
  {
   "metadata": {},
   "cell_type": "code",
   "source": "training_loop.train()",
   "id": "170e46cb818fa818",
   "outputs": [],
   "execution_count": null
  },
  {
   "metadata": {},
   "cell_type": "code",
   "source": [
    "# Inputs:  torch.Size([1, 30, 16, 3, 224, 224])\n",
    "# Outputs:  torch.Size([1, 30, 2])\n",
    "# Labels:  torch.Size([1, 30, 2])"
   ],
   "id": "e1d39fc0cbf2b928",
   "outputs": [],
   "execution_count": null
  }
 ],
 "metadata": {
  "kernelspec": {
   "display_name": "Python 3",
   "language": "python",
   "name": "python3"
  },
  "language_info": {
   "codemirror_mode": {
    "name": "ipython",
    "version": 2
   },
   "file_extension": ".py",
   "mimetype": "text/x-python",
   "name": "python",
   "nbconvert_exporter": "python",
   "pygments_lexer": "ipython2",
   "version": "2.7.6"
  }
 },
 "nbformat": 4,
 "nbformat_minor": 5
}
