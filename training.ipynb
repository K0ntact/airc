{
 "cells": [
  {
   "metadata": {},
   "cell_type": "code",
   "source": [
    "import numpy as np\n",
    "from torch import nn\n",
    "import torch.distributed as dist\n",
    "from torch.utils.data import DataLoader\n",
    "from torch.nn.parallel.distributed import DistributedDataParallel as DDP\n",
    "from torch.utils.data.distributed import DistributedSampler\n",
    "from torchinfo import summary\n",
    "\n",
    "from dataset import ATMADataset\n",
    "from models.timesformer_gru import TimesformerGRU"
   ],
   "id": "ccd378940e702be0",
   "outputs": [],
   "execution_count": null
  },
  {
   "metadata": {},
   "cell_type": "code",
   "source": [
    "model = TimesformerGRU(pretrained_tsf=\"facebook/timesformer-base-finetuned-k400\",\n",
    "                       gru_hidden_size=128, gru_layers=2,\n",
    "                       num_classes=10)"
   ],
   "id": "21093e1a15ffb4c6",
   "outputs": [],
   "execution_count": null
  },
  {
   "metadata": {},
   "cell_type": "code",
   "source": [
    "dummy_input = list(np.random.rand(8 ,3, 224, 224))\n",
    "summary(model=model)"
   ],
   "id": "d8c79ece7fb5deee",
   "outputs": [],
   "execution_count": null
  },
  {
   "metadata": {},
   "cell_type": "code",
   "source": [
    "dataset = ATMADataset(vid_folder_path=\"./datasets/ATMA-V/videos/train/split\",\n",
    "                    label_path=\"./datasets/ATMA-V/labels/labels_aug.txt\")\n",
    "\n",
    "train_sampler =\n",
    "train_dataloader = DataLoader(dataset, batch_size=8, shuffle=True)"
   ],
   "id": "43c544f30ce2e1c4",
   "outputs": [],
   "execution_count": null
  }
 ],
 "metadata": {
  "kernelspec": {
   "display_name": "Python 3",
   "language": "python",
   "name": "python3"
  },
  "language_info": {
   "codemirror_mode": {
    "name": "ipython",
    "version": 2
   },
   "file_extension": ".py",
   "mimetype": "text/x-python",
   "name": "python",
   "nbconvert_exporter": "python",
   "pygments_lexer": "ipython2",
   "version": "2.7.6"
  }
 },
 "nbformat": 4,
 "nbformat_minor": 5
}
